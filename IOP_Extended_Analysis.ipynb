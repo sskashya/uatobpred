{
 "cells": [
  {
   "cell_type": "code",
   "execution_count": 1,
   "metadata": {},
   "outputs": [],
   "source": [
    "import pandas as pd \n",
    "import numpy as np\n",
    "import re\n",
    "from sklearn.model_selection import train_test_split, cross_val_score\n",
    "from sklearn.ensemble import RandomForestClassifier\n",
    "from sklearn.metrics import classification_report, accuracy_score, roc_auc_score"
   ]
  },
  {
   "cell_type": "code",
   "execution_count": 2,
   "metadata": {},
   "outputs": [
    {
     "name": "stdout",
     "output_type": "stream",
     "text": [
      "Mexican_Origin\n",
      "smoking_status\n"
     ]
    }
   ],
   "source": [
    "ohe_x_resampled = pd.read_csv('Data/ohe_x_resampled.csv')\n",
    "if 'Unnamed: 0' in ohe_x_resampled.columns:\n",
    "    ohe_x_resampled.drop(columns = 'Unnamed: 0', inplace=True)\n",
    "\n",
    "ohe_y_resampled = pd.read_csv('Data/ohe_y_resampled.csv')\n",
    "if 'Unnamed: 0' in ohe_y_resampled.columns:\n",
    "    ohe_y_resampled.drop(columns = 'Unnamed: 0', inplace=True)\n",
    "\n",
    "print(ohe_x_resampled.columns[0])\n",
    "print(ohe_y_resampled.columns[0])"
   ]
  },
  {
   "cell_type": "code",
   "execution_count": 3,
   "metadata": {},
   "outputs": [],
   "source": [
    "env_features = ['store_tobacco_access',\n",
    "'online_tobacco_access',\n",
    "'E-cig_warnlab',\n",
    "'cig_warnlab',\n",
    "'cigar_warnlab',\n",
    "'smokeless_warnlab',\n",
    "'hookah_warnlab',\n",
    "'12-M_seen_anti_tobacco_ads',\n",
    "'cig_smoker_students_10Count',\n",
    "'e-cig_smoker_students_10Count',\n",
    "'Internet_ad_presence',\n",
    "'Newspaper_ad_presence',\n",
    "'store_ad_presence',\n",
    "'TV_ad_presence',\n",
    "'TV_char_tobacco_usage',\n",
    "'7-D_home_tobacco_usage',\n",
    "'7-D_vehicle_tobacco_usage',\n",
    "'Have_not_seen_e-cig_usage_school',\n",
    "'school_bathroom_e-cig_usage',\n",
    "'classroom_e-cig_usage',\n",
    "'hallway_cafeteria_e-cig_usage',\n",
    "'school_grounds_e-cig_usage',\n",
    "'others_e-cig_usage']\n",
    " \n",
    "env_pattern = f\"^({'|'.join(env_features)})\"\n",
    " \n",
    "id_features = ['Age',\n",
    "'Sex',\n",
    "'Mexican_Origin',\n",
    "'Puerto_Rican',\n",
    "'Cuban',\n",
    "'Other_Hispanic_Origin',\n",
    "'Native_American',\n",
    "'Asian',\n",
    "'Black',\n",
    "'Pacific_Islander',\n",
    "'White',\n",
    "'cigar_cig_comparison',\n",
    "'smokeless_cig_comparison',\n",
    "'E-cig_cig_comparison',\n",
    "'hookah_cig_comparison',\n",
    "'Tobacco_danger_agreement',\n",
    "'Sexuality',\n",
    "'Little_interest_in_activities',\n",
    "'Feeling_depressed',\n",
    "'Feeling_anxious',\n",
    "'uncontrollable_worrying',\n",
    "'12-M_grades',\n",
    "'Difficulty_concentrating_remembering_decisions']\n",
    " \n",
    "id_pattern = f\"^({'|'.join(id_features)})\"\n",
    " \n",
    "socioecon_features = ['Family_owns_vehicle',\n",
    "'Own_bedroom',\n",
    "'Num_of_tech_consoles',\n",
    "'12-M_vacation_freq']\n",
    " \n",
    "socioecon_pattern = f\"^({'|'.join(socioecon_features)})\""
   ]
  },
  {
   "cell_type": "code",
   "execution_count": 4,
   "metadata": {},
   "outputs": [
    {
     "name": "stderr",
     "output_type": "stream",
     "text": [
      "/tmp/ipykernel_5344/2857894350.py:1: UserWarning: This pattern is interpreted as a regular expression, and has match groups. To actually get the groups, use str.extract.\n",
      "  env_ohe_df = ohe_x_resampled.loc[:, ohe_x_resampled.columns.str.contains(env_pattern, regex=True)]\n",
      "/tmp/ipykernel_5344/2857894350.py:2: UserWarning: This pattern is interpreted as a regular expression, and has match groups. To actually get the groups, use str.extract.\n",
      "  id_ohe_df = ohe_x_resampled.loc[:, ohe_x_resampled.columns.str.contains(id_pattern, regex=True)]\n",
      "/tmp/ipykernel_5344/2857894350.py:3: UserWarning: This pattern is interpreted as a regular expression, and has match groups. To actually get the groups, use str.extract.\n",
      "  socioecon_ohe_df = ohe_x_resampled.loc[:, ohe_x_resampled.columns.str.contains(socioecon_pattern, regex=True)]\n"
     ]
    }
   ],
   "source": [
    "env_ohe_df = ohe_x_resampled.loc[:, ohe_x_resampled.columns.str.contains(env_pattern, regex=True)]\n",
    "id_ohe_df = ohe_x_resampled.loc[:, ohe_x_resampled.columns.str.contains(id_pattern, regex=True)]\n",
    "socioecon_ohe_df = ohe_x_resampled.loc[:, ohe_x_resampled.columns.str.contains(socioecon_pattern, regex=True)]"
   ]
  }
 ],
 "metadata": {
  "kernelspec": {
   "display_name": "Python 3",
   "language": "python",
   "name": "python3"
  },
  "language_info": {
   "codemirror_mode": {
    "name": "ipython",
    "version": 3
   },
   "file_extension": ".py",
   "mimetype": "text/x-python",
   "name": "python",
   "nbconvert_exporter": "python",
   "pygments_lexer": "ipython3",
   "version": "3.10.13"
  }
 },
 "nbformat": 4,
 "nbformat_minor": 2
}
